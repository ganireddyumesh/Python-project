{
  "nbformat": 4,
  "nbformat_minor": 0,
  "metadata": {
    "colab": {
      "provenance": [],
      "authorship_tag": "ABX9TyOSAZajL0Jb2F5V4okF9UXm",
      "include_colab_link": true
    },
    "kernelspec": {
      "name": "python3",
      "display_name": "Python 3"
    },
    "language_info": {
      "name": "python"
    }
  },
  "cells": [
    {
      "cell_type": "markdown",
      "metadata": {
        "id": "view-in-github",
        "colab_type": "text"
      },
      "source": [
        "<a href=\"https://colab.research.google.com/github/ganireddyumesh/Python-project/blob/main/python_coding_assignment.ipynb\" target=\"_parent\"><img src=\"https://colab.research.google.com/assets/colab-badge.svg\" alt=\"Open In Colab\"/></a>"
      ]
    },
    {
      "cell_type": "code",
      "execution_count": 4,
      "metadata": {
        "colab": {
          "base_uri": "https://localhost:8080/"
        },
        "id": "jZTY2DAHhOiP",
        "outputId": "5b9dfa38-b43d-4c94-cfc5-7a3d13141a28"
      },
      "outputs": [
        {
          "output_type": "stream",
          "name": "stdout",
          "text": [
            "15\n",
            "25\n",
            "True\n",
            "cherry\n",
            "3.0\n"
          ]
        }
      ],
      "source": [
        "### Section 1: Python Operators and Control Structures\n",
        "\n",
        "# Question 1: Sum of all numbers in a list using a loop\n",
        "\n",
        "def sum_numbers(lst):\n",
        "    total = 0\n",
        "    for number in lst:\n",
        "        total += number\n",
        "    return total\n",
        "\n",
        "# Example\n",
        "nums = [1, 2, 3, 4, 5]\n",
        "print(sum_numbers(nums))  # Output: 15\n",
        "\n",
        "# Question 2: Exponentiation result\n",
        "x = 5\n",
        "y = 2\n",
        "print(x ** y)  # Output: 25\n",
        "\n",
        "# Question 3: Check if a number is a palindrome\n",
        "\n",
        "def is_palindrome(num):\n",
        "    original = num\n",
        "    reverse = 0\n",
        "    while num > 0:\n",
        "        digit = num % 10\n",
        "        reverse = reverse * 10 + digit\n",
        "        num //= 10\n",
        "    return original == reverse\n",
        "\n",
        "# Example\n",
        "num = 12321\n",
        "print(is_palindrome(num))  # Output: True\n",
        "\n",
        "# Question 4: Retrieve the last item in a list\n",
        "fruits = ['apple', 'banana', 'cherry']\n",
        "print(fruits[-1])  # Output: cherry\n",
        "\n",
        "# Question 5: Find the average of numbers in a list\n",
        "\n",
        "def calculate_average(lst):\n",
        "    total = sum(lst)\n",
        "    return total / len(lst) if lst else 0\n",
        "\n",
        "# Example\n",
        "nums = [1, 2, 3, 4, 5]\n",
        "print(calculate_average(nums))  # Output: 3.0\n"
      ]
    }
  ]
}